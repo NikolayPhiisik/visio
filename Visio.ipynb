{
 "cells": [
  {
   "cell_type": "markdown",
   "metadata": {},
   "source": [
    "\n",
    "# Домашнее задание к лекции \"Визуализация данных\"\n",
    "## Обязательная часть\n",
    "Вам необходимо провести базовый EDA выбранного набора данных.\n",
    "\n",
    "## Требования к анализу:\n",
    "\n",
    "построить не менее 4 визуализаций различных видов;\n",
    "каждая визуализация должным образом оформлена и читается даже в отрыве от контекста;\n",
    "по каждой визуализации необходимо написать вывод (какую гипотезу на ее основе можно выдвинуть?).\n",
    "Откуда брать данные?\n",
    "\n",
    "Можете взять свои рабочие данные, либо найти открытые данные (например, на kaggle.com) по интересующей вас предметной области (тогда не забудьте их выложить на github вместе с ноутбуком). Если идей нет, можете взять один из перечисленных ниже:"
   ]
  },
  {
   "cell_type": "markdown",
   "metadata": {},
   "source": [
    "# Wine Reviews\n",
    "## wine reviews with variety, location, winery, price, and description"
   ]
  },
  {
   "cell_type": "code",
   "execution_count": 1,
   "metadata": {},
   "outputs": [],
   "source": [
    "import pandas as pd"
   ]
  },
  {
   "cell_type": "code",
   "execution_count": 2,
   "metadata": {},
   "outputs": [],
   "source": [
    "import seaborn as sns"
   ]
  },
  {
   "cell_type": "code",
   "execution_count": 3,
   "metadata": {},
   "outputs": [],
   "source": [
    "#увеличим дефолтный размер графиков\n",
    "from pylab import rcParams\n",
    "rcParams['figure.figsize'] = 18,6"
   ]
  },
  {
   "cell_type": "code",
   "execution_count": 4,
   "metadata": {},
   "outputs": [
    {
     "data": {
      "text/html": [
       "<div>\n",
       "<style scoped>\n",
       "    .dataframe tbody tr th:only-of-type {\n",
       "        vertical-align: middle;\n",
       "    }\n",
       "\n",
       "    .dataframe tbody tr th {\n",
       "        vertical-align: top;\n",
       "    }\n",
       "\n",
       "    .dataframe thead th {\n",
       "        text-align: right;\n",
       "    }\n",
       "</style>\n",
       "<table border=\"1\" class=\"dataframe\">\n",
       "  <thead>\n",
       "    <tr style=\"text-align: right;\">\n",
       "      <th></th>\n",
       "      <th>country</th>\n",
       "      <th>description</th>\n",
       "      <th>designation</th>\n",
       "      <th>points</th>\n",
       "      <th>price</th>\n",
       "      <th>province</th>\n",
       "      <th>region_1</th>\n",
       "      <th>region_2</th>\n",
       "      <th>variety</th>\n",
       "      <th>winery</th>\n",
       "    </tr>\n",
       "  </thead>\n",
       "  <tbody>\n",
       "    <tr>\n",
       "      <th>0</th>\n",
       "      <td>US</td>\n",
       "      <td>This tremendous 100% varietal wine hails from ...</td>\n",
       "      <td>Martha's Vineyard</td>\n",
       "      <td>96</td>\n",
       "      <td>235.0</td>\n",
       "      <td>California</td>\n",
       "      <td>Napa Valley</td>\n",
       "      <td>Napa</td>\n",
       "      <td>Cabernet Sauvignon</td>\n",
       "      <td>Heitz</td>\n",
       "    </tr>\n",
       "    <tr>\n",
       "      <th>1</th>\n",
       "      <td>Spain</td>\n",
       "      <td>Ripe aromas of fig, blackberry and cassis are ...</td>\n",
       "      <td>Carodorum Selección Especial Reserva</td>\n",
       "      <td>96</td>\n",
       "      <td>110.0</td>\n",
       "      <td>Northern Spain</td>\n",
       "      <td>Toro</td>\n",
       "      <td>NaN</td>\n",
       "      <td>Tinta de Toro</td>\n",
       "      <td>Bodega Carmen Rodríguez</td>\n",
       "    </tr>\n",
       "    <tr>\n",
       "      <th>2</th>\n",
       "      <td>US</td>\n",
       "      <td>Mac Watson honors the memory of a wine once ma...</td>\n",
       "      <td>Special Selected Late Harvest</td>\n",
       "      <td>96</td>\n",
       "      <td>90.0</td>\n",
       "      <td>California</td>\n",
       "      <td>Knights Valley</td>\n",
       "      <td>Sonoma</td>\n",
       "      <td>Sauvignon Blanc</td>\n",
       "      <td>Macauley</td>\n",
       "    </tr>\n",
       "    <tr>\n",
       "      <th>3</th>\n",
       "      <td>US</td>\n",
       "      <td>This spent 20 months in 30% new French oak, an...</td>\n",
       "      <td>Reserve</td>\n",
       "      <td>96</td>\n",
       "      <td>65.0</td>\n",
       "      <td>Oregon</td>\n",
       "      <td>Willamette Valley</td>\n",
       "      <td>Willamette Valley</td>\n",
       "      <td>Pinot Noir</td>\n",
       "      <td>Ponzi</td>\n",
       "    </tr>\n",
       "    <tr>\n",
       "      <th>4</th>\n",
       "      <td>France</td>\n",
       "      <td>This is the top wine from La Bégude, named aft...</td>\n",
       "      <td>La Brûlade</td>\n",
       "      <td>95</td>\n",
       "      <td>66.0</td>\n",
       "      <td>Provence</td>\n",
       "      <td>Bandol</td>\n",
       "      <td>NaN</td>\n",
       "      <td>Provence red blend</td>\n",
       "      <td>Domaine de la Bégude</td>\n",
       "    </tr>\n",
       "    <tr>\n",
       "      <th>...</th>\n",
       "      <td>...</td>\n",
       "      <td>...</td>\n",
       "      <td>...</td>\n",
       "      <td>...</td>\n",
       "      <td>...</td>\n",
       "      <td>...</td>\n",
       "      <td>...</td>\n",
       "      <td>...</td>\n",
       "      <td>...</td>\n",
       "      <td>...</td>\n",
       "    </tr>\n",
       "    <tr>\n",
       "      <th>150925</th>\n",
       "      <td>Italy</td>\n",
       "      <td>Many people feel Fiano represents southern Ita...</td>\n",
       "      <td>NaN</td>\n",
       "      <td>91</td>\n",
       "      <td>20.0</td>\n",
       "      <td>Southern Italy</td>\n",
       "      <td>Fiano di Avellino</td>\n",
       "      <td>NaN</td>\n",
       "      <td>White Blend</td>\n",
       "      <td>Feudi di San Gregorio</td>\n",
       "    </tr>\n",
       "    <tr>\n",
       "      <th>150926</th>\n",
       "      <td>France</td>\n",
       "      <td>Offers an intriguing nose with ginger, lime an...</td>\n",
       "      <td>Cuvée Prestige</td>\n",
       "      <td>91</td>\n",
       "      <td>27.0</td>\n",
       "      <td>Champagne</td>\n",
       "      <td>Champagne</td>\n",
       "      <td>NaN</td>\n",
       "      <td>Champagne Blend</td>\n",
       "      <td>H.Germain</td>\n",
       "    </tr>\n",
       "    <tr>\n",
       "      <th>150927</th>\n",
       "      <td>Italy</td>\n",
       "      <td>This classic example comes from a cru vineyard...</td>\n",
       "      <td>Terre di Dora</td>\n",
       "      <td>91</td>\n",
       "      <td>20.0</td>\n",
       "      <td>Southern Italy</td>\n",
       "      <td>Fiano di Avellino</td>\n",
       "      <td>NaN</td>\n",
       "      <td>White Blend</td>\n",
       "      <td>Terredora</td>\n",
       "    </tr>\n",
       "    <tr>\n",
       "      <th>150928</th>\n",
       "      <td>France</td>\n",
       "      <td>A perfect salmon shade, with scents of peaches...</td>\n",
       "      <td>Grand Brut Rosé</td>\n",
       "      <td>90</td>\n",
       "      <td>52.0</td>\n",
       "      <td>Champagne</td>\n",
       "      <td>Champagne</td>\n",
       "      <td>NaN</td>\n",
       "      <td>Champagne Blend</td>\n",
       "      <td>Gosset</td>\n",
       "    </tr>\n",
       "    <tr>\n",
       "      <th>150929</th>\n",
       "      <td>Italy</td>\n",
       "      <td>More Pinot Grigios should taste like this. A r...</td>\n",
       "      <td>NaN</td>\n",
       "      <td>90</td>\n",
       "      <td>15.0</td>\n",
       "      <td>Northeastern Italy</td>\n",
       "      <td>Alto Adige</td>\n",
       "      <td>NaN</td>\n",
       "      <td>Pinot Grigio</td>\n",
       "      <td>Alois Lageder</td>\n",
       "    </tr>\n",
       "  </tbody>\n",
       "</table>\n",
       "<p>150930 rows × 10 columns</p>\n",
       "</div>"
      ],
      "text/plain": [
       "       country                                        description  \\\n",
       "0           US  This tremendous 100% varietal wine hails from ...   \n",
       "1        Spain  Ripe aromas of fig, blackberry and cassis are ...   \n",
       "2           US  Mac Watson honors the memory of a wine once ma...   \n",
       "3           US  This spent 20 months in 30% new French oak, an...   \n",
       "4       France  This is the top wine from La Bégude, named aft...   \n",
       "...        ...                                                ...   \n",
       "150925   Italy  Many people feel Fiano represents southern Ita...   \n",
       "150926  France  Offers an intriguing nose with ginger, lime an...   \n",
       "150927   Italy  This classic example comes from a cru vineyard...   \n",
       "150928  France  A perfect salmon shade, with scents of peaches...   \n",
       "150929   Italy  More Pinot Grigios should taste like this. A r...   \n",
       "\n",
       "                                 designation  points  price  \\\n",
       "0                          Martha's Vineyard      96  235.0   \n",
       "1       Carodorum Selección Especial Reserva      96  110.0   \n",
       "2              Special Selected Late Harvest      96   90.0   \n",
       "3                                    Reserve      96   65.0   \n",
       "4                                 La Brûlade      95   66.0   \n",
       "...                                      ...     ...    ...   \n",
       "150925                                   NaN      91   20.0   \n",
       "150926                        Cuvée Prestige      91   27.0   \n",
       "150927                         Terre di Dora      91   20.0   \n",
       "150928                       Grand Brut Rosé      90   52.0   \n",
       "150929                                   NaN      90   15.0   \n",
       "\n",
       "                  province           region_1           region_2  \\\n",
       "0               California        Napa Valley               Napa   \n",
       "1           Northern Spain               Toro                NaN   \n",
       "2               California     Knights Valley             Sonoma   \n",
       "3                   Oregon  Willamette Valley  Willamette Valley   \n",
       "4                 Provence             Bandol                NaN   \n",
       "...                    ...                ...                ...   \n",
       "150925      Southern Italy  Fiano di Avellino                NaN   \n",
       "150926           Champagne          Champagne                NaN   \n",
       "150927      Southern Italy  Fiano di Avellino                NaN   \n",
       "150928           Champagne          Champagne                NaN   \n",
       "150929  Northeastern Italy         Alto Adige                NaN   \n",
       "\n",
       "                   variety                   winery  \n",
       "0       Cabernet Sauvignon                    Heitz  \n",
       "1            Tinta de Toro  Bodega Carmen Rodríguez  \n",
       "2          Sauvignon Blanc                 Macauley  \n",
       "3               Pinot Noir                    Ponzi  \n",
       "4       Provence red blend     Domaine de la Bégude  \n",
       "...                    ...                      ...  \n",
       "150925         White Blend    Feudi di San Gregorio  \n",
       "150926     Champagne Blend                H.Germain  \n",
       "150927         White Blend                Terredora  \n",
       "150928     Champagne Blend                   Gosset  \n",
       "150929        Pinot Grigio            Alois Lageder  \n",
       "\n",
       "[150930 rows x 10 columns]"
      ]
     },
     "execution_count": 4,
     "metadata": {},
     "output_type": "execute_result"
    }
   ],
   "source": [
    "data = pd.read_csv('winemag-data_first150k.csv')\n",
    "data.drop('Unnamed: 0',axis=1,inplace=True)\n",
    "data"
   ]
  },
  {
   "cell_type": "code",
   "execution_count": 11,
   "metadata": {},
   "outputs": [
    {
     "data": {
      "text/html": [
       "<style  type=\"text/css\" >\n",
       "#T_b2c364e8_4137_11eb_a11e_bac225776301row0_col0{\n",
       "            width:  10em;\n",
       "             height:  80%;\n",
       "            background:  linear-gradient(90deg,#5fba7d 100.0%, transparent 100.0%);\n",
       "        }#T_b2c364e8_4137_11eb_a11e_bac225776301row1_col0{\n",
       "            width:  10em;\n",
       "             height:  80%;\n",
       "            background:  linear-gradient(90deg,#5fba7d 22.2%, transparent 22.2%);\n",
       "        }#T_b2c364e8_4137_11eb_a11e_bac225776301row2_col0{\n",
       "            width:  10em;\n",
       "             height:  80%;\n",
       "            background:  linear-gradient(90deg,#5fba7d 16.7%, transparent 16.7%);\n",
       "        }#T_b2c364e8_4137_11eb_a11e_bac225776301row3_col0{\n",
       "            width:  10em;\n",
       "             height:  80%;\n",
       "            background:  linear-gradient(90deg,#5fba7d 14.0%, transparent 14.0%);\n",
       "        }#T_b2c364e8_4137_11eb_a11e_bac225776301row4_col0{\n",
       "            width:  10em;\n",
       "             height:  80%;\n",
       "            background:  linear-gradient(90deg,#5fba7d 10.9%, transparent 10.9%);\n",
       "        }#T_b2c364e8_4137_11eb_a11e_bac225776301row5_col0{\n",
       "            width:  10em;\n",
       "             height:  80%;\n",
       "            background:  linear-gradient(90deg,#5fba7d 10.5%, transparent 10.5%);\n",
       "        }#T_b2c364e8_4137_11eb_a11e_bac225776301row6_col0{\n",
       "            width:  10em;\n",
       "             height:  80%;\n",
       "            background:  linear-gradient(90deg,#5fba7d 10.4%, transparent 10.4%);\n",
       "        }#T_b2c364e8_4137_11eb_a11e_bac225776301row7_col0{\n",
       "            width:  10em;\n",
       "             height:  80%;\n",
       "            background:  linear-gradient(90deg,#5fba7d 9.9%, transparent 9.9%);\n",
       "        }#T_b2c364e8_4137_11eb_a11e_bac225776301row8_col0{\n",
       "            width:  10em;\n",
       "             height:  80%;\n",
       "            background:  linear-gradient(90deg,#5fba7d 9.3%, transparent 9.3%);\n",
       "        }#T_b2c364e8_4137_11eb_a11e_bac225776301row9_col0{\n",
       "            width:  10em;\n",
       "             height:  80%;\n",
       "            background:  linear-gradient(90deg,#5fba7d 8.9%, transparent 8.9%);\n",
       "        }</style><table id=\"T_b2c364e8_4137_11eb_a11e_bac225776301\" ><thead>    <tr>        <th class=\"blank level0\" ></th>        <th class=\"col_heading level0 col0\" >points</th>    </tr>    <tr>        <th class=\"index_name level0\" >province</th>        <th class=\"blank\" ></th>    </tr></thead><tbody>\n",
       "                <tr>\n",
       "                        <th id=\"T_b2c364e8_4137_11eb_a11e_bac225776301level0_row0\" class=\"row_heading level0 row0\" >California</th>\n",
       "                        <td id=\"T_b2c364e8_4137_11eb_a11e_bac225776301row0_col0\" class=\"data row0 col0\" >3902583</td>\n",
       "            </tr>\n",
       "            <tr>\n",
       "                        <th id=\"T_b2c364e8_4137_11eb_a11e_bac225776301level0_row1\" class=\"row_heading level0 row1\" >Washington</th>\n",
       "                        <td id=\"T_b2c364e8_4137_11eb_a11e_bac225776301row1_col0\" class=\"data row1 col0\" >866577</td>\n",
       "            </tr>\n",
       "            <tr>\n",
       "                        <th id=\"T_b2c364e8_4137_11eb_a11e_bac225776301level0_row2\" class=\"row_heading level0 row2\" >Tuscany</th>\n",
       "                        <td id=\"T_b2c364e8_4137_11eb_a11e_bac225776301row2_col0\" class=\"data row2 col0\" >650077</td>\n",
       "            </tr>\n",
       "            <tr>\n",
       "                        <th id=\"T_b2c364e8_4137_11eb_a11e_bac225776301level0_row3\" class=\"row_heading level0 row3\" >Bordeaux</th>\n",
       "                        <td id=\"T_b2c364e8_4137_11eb_a11e_bac225776301row3_col0\" class=\"data row3 col0\" >546917</td>\n",
       "            </tr>\n",
       "            <tr>\n",
       "                        <th id=\"T_b2c364e8_4137_11eb_a11e_bac225776301level0_row4\" class=\"row_heading level0 row4\" >Northern Spain</th>\n",
       "                        <td id=\"T_b2c364e8_4137_11eb_a11e_bac225776301row4_col0\" class=\"data row4 col0\" >424563</td>\n",
       "            </tr>\n",
       "            <tr>\n",
       "                        <th id=\"T_b2c364e8_4137_11eb_a11e_bac225776301level0_row5\" class=\"row_heading level0 row5\" >Mendoza Province</th>\n",
       "                        <td id=\"T_b2c364e8_4137_11eb_a11e_bac225776301row5_col0\" class=\"data row5 col0\" >408325</td>\n",
       "            </tr>\n",
       "            <tr>\n",
       "                        <th id=\"T_b2c364e8_4137_11eb_a11e_bac225776301level0_row6\" class=\"row_heading level0 row6\" >Oregon</th>\n",
       "                        <td id=\"T_b2c364e8_4137_11eb_a11e_bac225776301row6_col0\" class=\"data row6 col0\" >406169</td>\n",
       "            </tr>\n",
       "            <tr>\n",
       "                        <th id=\"T_b2c364e8_4137_11eb_a11e_bac225776301level0_row7\" class=\"row_heading level0 row7\" >Burgundy</th>\n",
       "                        <td id=\"T_b2c364e8_4137_11eb_a11e_bac225776301row7_col0\" class=\"data row7 col0\" >385519</td>\n",
       "            </tr>\n",
       "            <tr>\n",
       "                        <th id=\"T_b2c364e8_4137_11eb_a11e_bac225776301level0_row8\" class=\"row_heading level0 row8\" >Piedmont</th>\n",
       "                        <td id=\"T_b2c364e8_4137_11eb_a11e_bac225776301row8_col0\" class=\"data row8 col0\" >364544</td>\n",
       "            </tr>\n",
       "            <tr>\n",
       "                        <th id=\"T_b2c364e8_4137_11eb_a11e_bac225776301level0_row9\" class=\"row_heading level0 row9\" >Veneto</th>\n",
       "                        <td id=\"T_b2c364e8_4137_11eb_a11e_bac225776301row9_col0\" class=\"data row9 col0\" >346922</td>\n",
       "            </tr>\n",
       "    </tbody></table>"
      ],
      "text/plain": [
       "<pandas.io.formats.style.Styler at 0x201b4728f70>"
      ]
     },
     "execution_count": 11,
     "metadata": {},
     "output_type": "execute_result"
    }
   ],
   "source": [
    "#10 провинций, где сорт винограда набирает наибольшее количество оценок\n",
    "variety_ = data.groupby('province')[['points']].sum().sort_values('points',ascending=False).head(10)\n",
    "variety_.style.bar(align='mid',color=['#5fba7d'])"
   ]
  },
  {
   "cell_type": "code",
   "execution_count": 18,
   "metadata": {},
   "outputs": [
    {
     "data": {
      "text/plain": [
       "<AxesSubplot:title={'center':'Points distribution'}>"
      ]
     },
     "execution_count": 18,
     "metadata": {},
     "output_type": "execute_result"
    },
    {
     "data": {
      "image/png": "[encoded data removed]",
      "text/plain": [
       "<Figure size 1296x432 with 1 Axes>"
      ]
     },
     "metadata": {
      "needs_background": "light"
     },
     "output_type": "display_data"
    }
   ],
   "source": [
    "#поиск выбросов по количеству оценок\n",
    "data.points.plot(kind='box',\n",
    "                   title='Points distribution',grid=True)"
   ]
  },
  {
   "cell_type": "markdown",
   "metadata": {},
   "source": [
    "### вывод по ящику с усами:\n",
    "- имеются верхние выбросы, т.е. оценки выше 96, критики ставят редко.нижние выбросы отсутствуют\n",
    "- ящик узкий, поэтому часто встречаются оценки, которые сконцентрированы около модального значения\n",
    "- верхний ус и нижний ус одинаковы, т.е. распределение оценок практически одинаковое"
   ]
  },
  {
   "cell_type": "code",
   "execution_count": 25,
   "metadata": {},
   "outputs": [
    {
     "data": {
      "text/plain": [
       "<seaborn.axisgrid.JointGrid at 0x1f24d7b2eb0>"
      ]
     },
     "execution_count": 25,
     "metadata": {},
     "output_type": "execute_result"
    },
    {
     "data": {
      "image/png": "[encoded data removed]",
      "text/plain": [
       "<Figure size 432x432 with 3 Axes>"
      ]
     },
     "metadata": {
      "needs_background": "light"
     },
     "output_type": "display_data"
    }
   ],
   "source": [
    "sns.jointplot(x='points', y='price', \n",
    "              data=data, kind='scatter')"
   ]
  },
  {
   "cell_type": "markdown",
   "metadata": {},
   "source": [
    "## на данном графике представлена зависимость цены от оценок критиков и их распределение #\n",
    "\n",
    "### на гистограмме 'points' представлено распределение оценки критиков:\n",
    "- критики не ставят оценок ниже 80 и диапозон варьируется в пределе от 80 до 100.\n",
    "- наибольшее количество оценок выставлено в пределе от 85 до 87.5\n",
    "- наименьшее количество оценок выставлено в пределе от 95 до 100\n",
    "- чаще всего критики ставят оценки в районе числа 86\n",
    "### на гистограмме 'price' представлено распределение цены:\n",
    "- цена за бутылка вина больше 500 очень редкая\n",
    "- основной спрос на вино ориентирован на ценовой диапозон от 0 до 250\n",
    "### на точечной диаграмме представлена взаимосвязь оценок и цены:\n",
    "- прямая взаимосвязь не наблюдается: в первую очередь клиент обращает внимание на цену вина и уже потом смотрит на оценку критика.скорее всего клиент ориентируется на другие признаки, такие как:место происхождения и сорт винограда."
   ]
  },
  {
   "cell_type": "code",
   "execution_count": 5,
   "metadata": {},
   "outputs": [
    {
     "data": {
      "text/plain": [
       "<AxesSubplot:xlabel='variety', ylabel='points'>"
      ]
     },
     "execution_count": 5,
     "metadata": {},
     "output_type": "execute_result"
    },
    {
     "data": {
      "image/png": "[encoded data removed]",
      "text/plain": [
       "<Figure size 1296x432 with 1 Axes>"
      ]
     },
     "metadata": {
      "needs_background": "light"
     },
     "output_type": "display_data"
    }
   ],
   "source": [
    "#топ-5 сортов вина  по количеству оценок\n",
    "top_vine = data.variety.value_counts().sort_values(ascending = False).head(5).index.values\n",
    "sns.boxplot(x=\"variety\", y=\"points\", \n",
    "            data=data[data.variety.isin(top_vine)])"
   ]
  },
  {
   "cell_type": "markdown",
   "metadata": {},
   "source": [
    "## Вывод по данному графику:\n",
    "- самой большой разброс оценок наблюдается у Cabernet Sauvignon и Bordeaux-style Red Blend типа вина(большые коробки и усы)\n",
    "- самая высокая медиана у Bordeaux-style Red Blend\n",
    "- наблюдаем выбросы для некоторых сортов вина и причем только верхние\n",
    "- у сорта Red Blend наибольшее количество оценок состредоточено около часто встречающегося значения(потому что узкий ящик),но в то же время наблюдается наибольшее количество выбросов с высокими оценка(т.е. оценки критиков различны, соответственно и \"вкусы\") ! пожалуй, я бы выбрал этот сорт вина) \n",
    "- представленные сорта вина не обладают плохими оценками,т.е. мнения критиков схожи для для данных сортов вина"
   ]
  },
  {
   "cell_type": "code",
   "execution_count": 17,
   "metadata": {},
   "outputs": [
    {
     "data": {
      "text/plain": [
       "<AxesSubplot:xlabel='country', ylabel='price'>"
      ]
     },
     "execution_count": 17,
     "metadata": {},
     "output_type": "execute_result"
    },
    {
     "data": {
      "image/png": "[encoded data removed]",
      "text/plain": [
       "<Figure size 1296x432 with 1 Axes>"
      ]
     },
     "metadata": {
      "needs_background": "light"
     },
     "output_type": "display_data"
    }
   ],
   "source": [
    "top_price = data.country.value_counts().sort_values(ascending = False).head(10).index.values\n",
    "sns.boxplot(x=\"country\", y=\"price\", \n",
    "            data=data[data.country.isin(top_price)])"
   ]
  },
  {
   "cell_type": "markdown",
   "metadata": {},
   "source": [
    "## вывод по данному графику:\n",
    "- для некоторых стран наблюдаются вина в ценовом диапозоне выше 500 (Франция, Италия,Испания,Португалия), т.е. эти страны поставляют вина и с более высокой стоимостью. а Новая Зеландия и Аргентина поставляют вина с ценой не выше 400.\n",
    "- наблюдаются огромное количество выбросов по цене для этих стран(кроме Новой Зеландии и Аргентины), т.е. чтобы определить среднюю стоимость бутылки вина для отдельной страны придется тщательно произвести выборку по каждой стране."
   ]
  }
 ],
 "metadata": {
  "kernelspec": {
   "display_name": "Python 3",
   "language": "python",
   "name": "python3"
  },
  "language_info": {
   "codemirror_mode": {
    "name": "ipython",
    "version": 3
   },
   "file_extension": ".py",
   "mimetype": "text/x-python",
   "name": "python",
   "nbconvert_exporter": "python",
   "pygments_lexer": "ipython3",
   "version": "3.8.3"
  }
 },
 "nbformat": 4,
 "nbformat_minor": 4
}
